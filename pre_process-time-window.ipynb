{
 "cells": [
  {
   "cell_type": "code",
   "execution_count": null,
   "metadata": {},
   "outputs": [],
   "source": [
    "import pandas as pd"
   ]
  },
  {
   "cell_type": "code",
   "execution_count": 21,
   "metadata": {},
   "outputs": [],
   "source": [
    "df1 = pd.read_csv('time_series.csv')\n",
    "df2 = pd.read_csv('train_stays.csv')"
   ]
  },
  {
   "cell_type": "code",
   "execution_count": 22,
   "metadata": {},
   "outputs": [],
   "source": [
    "def create_inout_sequences(input_data, input_label,tw):\n",
    "    inout_seq = []\n",
    "    L = len(input_data)\n",
    "    for i in range(L-tw+1):\n",
    "        train_seq = input_data[i:i+tw]\n",
    "        train_label = input_label[i+tw-1:i+tw]\n",
    "        inout_seq.append((train_seq ,train_label))\n",
    "    return inout_seq"
   ]
  },
  {
   "cell_type": "code",
   "execution_count": null,
   "metadata": {
    "scrolled": true
   },
   "outputs": [],
   "source": [
    "from sklearn.impute import SimpleImputer\n",
    "import numpy as np\n",
    "import torch\n",
    "new_data = []\n",
    "for i in range(len(df2)):\n",
    "    query_id = df2.at[i,'stay_id']\n",
    "    df_query = df1.query('stay_id == @query_id')\n",
    "    df_query = df_query.drop(['Time','stay_id','hadm_id'],axis=1)\n",
    "    target = df_query.pop(df_query.columns[-5]).to_numpy()\n",
    "    df_query_fit = df_query.fillna(df_query.mean())\n",
    "    imp_mean = SimpleImputer(missing_values=np.nan, strategy='constant')\n",
    "    df_query_fit = imp_mean.fit_transform(df_query_fit)\n",
    "#     X = torch.tensor(df_query_fit)\n",
    "#     y = torch.tensor(target)\n",
    "    inout_seq = create_inout_sequences(df_query_fit, target,3)\n",
    "    new_data.append((inout_seq))"
   ]
  },
  {
   "cell_type": "code",
   "execution_count": 26,
   "metadata": {
    "scrolled": true
   },
   "outputs": [],
   "source": [
    "data_array = np.concatenate(new_data, axis=0)"
   ]
  },
  {
   "cell_type": "code",
   "execution_count": 27,
   "metadata": {},
   "outputs": [
    {
     "name": "stdout",
     "output_type": "stream",
     "text": [
      "35767\n"
     ]
    }
   ],
   "source": [
    "print(len(new_data))"
   ]
  },
  {
   "cell_type": "code",
   "execution_count": 28,
   "metadata": {},
   "outputs": [],
   "source": [
    "from numpy import save\n",
    "save('train_data_window_3.npy', data_array)"
   ]
  },
  {
   "cell_type": "code",
   "execution_count": 9,
   "metadata": {},
   "outputs": [],
   "source": [
    "from numpy import load\n",
    "data = load('data_window_3.npy')"
   ]
  },
  {
   "cell_type": "code",
   "execution_count": null,
   "metadata": {},
   "outputs": [],
   "source": []
  }
 ],
 "metadata": {
  "kernelspec": {
   "display_name": "Python 3",
   "language": "python",
   "name": "python3"
  },
  "language_info": {
   "codemirror_mode": {
    "name": "ipython",
    "version": 3
   },
   "file_extension": ".py",
   "mimetype": "text/x-python",
   "name": "python",
   "nbconvert_exporter": "python",
   "pygments_lexer": "ipython3",
   "version": "3.7.6"
  }
 },
 "nbformat": 4,
 "nbformat_minor": 4
}
