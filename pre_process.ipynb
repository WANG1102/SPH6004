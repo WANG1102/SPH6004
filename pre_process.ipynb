{
 "cells": [
  {
   "cell_type": "code",
   "execution_count": 1,
   "metadata": {},
   "outputs": [],
   "source": [
    "import pandas as pd"
   ]
  },
  {
   "cell_type": "code",
   "execution_count": 2,
   "metadata": {},
   "outputs": [],
   "source": [
    "df1 = pd.read_csv('time_series.csv')\n",
    "df2 = pd.read_csv('selected_stays.csv')"
   ]
  },
  {
   "cell_type": "code",
   "execution_count": null,
   "metadata": {},
   "outputs": [],
   "source": [
    "df_count = data.stay_id.value_counts(dropna=False,sort=True)  \n",
    "print(df_count)"
   ]
  },
  {
   "cell_type": "code",
   "execution_count": null,
   "metadata": {
    "scrolled": true
   },
   "outputs": [],
   "source": [
    "new_data = pd.DataFrame()\n",
    "for i in range(len(df2)):\n",
    "    query_id = df2.at[i,'stay_id']\n",
    "    df_query = df1.query('stay_id == @query_id')\n",
    "    df_query_fit = df_query.fillna(df_query.mean())\n",
    "    new_data = new_data.append(df_query_fit)"
   ]
  },
  {
   "cell_type": "code",
   "execution_count": 6,
   "metadata": {},
   "outputs": [
    {
     "name": "stdout",
     "output_type": "stream",
     "text": [
      "The history saving thread hit an unexpected error (OperationalError('database is locked')).History will not be written to the database.\n"
     ]
    }
   ],
   "source": [
    "new_data.to_csv('pre_process.csv')"
   ]
  },
  {
   "cell_type": "code",
   "execution_count": 5,
   "metadata": {},
   "outputs": [
    {
     "name": "stdout",
     "output_type": "stream",
     "text": [
      "39742\n"
     ]
    }
   ],
   "source": [
    "print(len(df2))"
   ]
  },
  {
   "cell_type": "code",
   "execution_count": 6,
   "metadata": {},
   "outputs": [
    {
     "name": "stdout",
     "output_type": "stream",
     "text": [
      "    hadm_id   stay_id  gender  age               intime              outtime  \\\n",
      "0  27845175  33225641       0   32  2111-09-04 03:53:03  2111-09-11 18:11:57   \n",
      "1  26542901  38808781       0   71  2150-01-23 20:12:28  2150-01-27 10:54:59   \n",
      "2  21920312  38974640       1   63  2132-08-14 02:51:00  2132-08-18 11:25:46   \n",
      "3  28403863  36458174       1   89  2133-08-29 14:38:00  2133-09-07 06:48:52   \n",
      "4  21656279  30203390       1   86  2169-10-17 18:21:00  2169-10-20 22:33:00   \n",
      "\n",
      "   dod       los  \n",
      "0  NaN  7.596458  \n",
      "1  NaN  3.612859  \n",
      "2  NaN  4.357477  \n",
      "3  NaN  8.674213  \n",
      "4  NaN  3.175000  \n"
     ]
    }
   ],
   "source": [
    "print(df2.head(5))"
   ]
  },
  {
   "cell_type": "code",
   "execution_count": 28,
   "metadata": {},
   "outputs": [],
   "source": [
    "import numpy as np\n",
    "seq = np.arange(0,len(df2),1)"
   ]
  },
  {
   "cell_type": "code",
   "execution_count": 29,
   "metadata": {},
   "outputs": [
    {
     "name": "stdout",
     "output_type": "stream",
     "text": [
      "[    0     1     2 ... 39739 39740 39741]\n"
     ]
    }
   ],
   "source": [
    "print(seq)"
   ]
  },
  {
   "cell_type": "code",
   "execution_count": 38,
   "metadata": {},
   "outputs": [],
   "source": [
    "from sklearn.model_selection import train_test_split\n",
    "x_train,x_test,_,_ = train_test_split(seq, seq, test_size=0.1, random_state=42)"
   ]
  },
  {
   "cell_type": "code",
   "execution_count": 39,
   "metadata": {},
   "outputs": [
    {
     "name": "stdout",
     "output_type": "stream",
     "text": [
      "[    0     2     3 ... 39739 39740 39741]\n"
     ]
    }
   ],
   "source": [
    "x_train = np.sort(x_train)\n",
    "print(x_train)"
   ]
  },
  {
   "cell_type": "code",
   "execution_count": 40,
   "metadata": {},
   "outputs": [
    {
     "name": "stdout",
     "output_type": "stream",
     "text": [
      "[    1     4    13 ... 39716 39725 39736]\n"
     ]
    }
   ],
   "source": [
    "x_test = np.sort(x_test)\n",
    "print(x_test)"
   ]
  },
  {
   "cell_type": "code",
   "execution_count": 41,
   "metadata": {},
   "outputs": [],
   "source": [
    "train_data = df2.loc[x_train,:]"
   ]
  },
  {
   "cell_type": "code",
   "execution_count": 42,
   "metadata": {},
   "outputs": [
    {
     "name": "stdout",
     "output_type": "stream",
     "text": [
      "        hadm_id   stay_id  gender  age               intime  \\\n",
      "0      27845175  33225641       0   32  2111-09-04 03:53:03   \n",
      "2      21920312  38974640       1   63  2132-08-14 02:51:00   \n",
      "3      28403863  36458174       1   89  2133-08-29 14:38:00   \n",
      "5      21263495  35437942       0   27  2115-12-03 22:54:00   \n",
      "6      21306367  38405614       0   75  2110-12-06 00:47:41   \n",
      "...         ...       ...     ...  ...                  ...   \n",
      "39737  22818895  32564173       0   51  2122-11-21 17:48:13   \n",
      "39738  22818895  35913063       0   51  2122-11-13 09:06:39   \n",
      "39739  26248295  38087284       1   96  2196-11-15 23:45:24   \n",
      "39740  26377098  31632048       1   54  2154-09-09 19:31:39   \n",
      "39741  29623448  30591465       1   19  2152-02-20 10:13:58   \n",
      "\n",
      "                   outtime  dod        los  \n",
      "0      2111-09-11 18:11:57  NaN   7.596458  \n",
      "2      2132-08-18 11:25:46  NaN   4.357477  \n",
      "3      2133-09-07 06:48:52  NaN   8.674213  \n",
      "5      2115-12-05 00:51:09  NaN   1.081354  \n",
      "6      2110-12-06 23:16:34  NaN   0.936725  \n",
      "...                    ...  ...        ...  \n",
      "39737  2122-11-24 06:44:40  NaN   2.539201  \n",
      "39738  2122-11-21 17:48:13  NaN   8.362199  \n",
      "39739  2196-12-02 20:26:41  NaN  16.862002  \n",
      "39740  2154-09-11 18:17:00  NaN   1.948160  \n",
      "39741  2152-03-03 21:38:48  NaN  12.475579  \n",
      "\n",
      "[35767 rows x 8 columns]\n"
     ]
    }
   ],
   "source": [
    "print(train_data)"
   ]
  },
  {
   "cell_type": "code",
   "execution_count": 43,
   "metadata": {},
   "outputs": [
    {
     "name": "stdout",
     "output_type": "stream",
     "text": [
      "        hadm_id   stay_id  gender  age               intime  \\\n",
      "1      26542901  38808781       0   71  2150-01-23 20:12:28   \n",
      "4      21656279  30203390       1   86  2169-10-17 18:21:00   \n",
      "13     25983607  33747095       1   37  2164-08-16 23:24:00   \n",
      "23     24333520  32494630       1   51  2171-02-03 01:34:04   \n",
      "40     28399871  33785324       1   70  2131-07-19 21:42:35   \n",
      "...         ...       ...     ...  ...                  ...   \n",
      "39702  29089348  36632866       0   48  2171-03-27 14:00:04   \n",
      "39714  21915782  35302101       1   84  2183-09-01 12:20:04   \n",
      "39716  24345854  38566917       0   90  2117-03-08 00:43:00   \n",
      "39725  21181190  38969365       1   46  2148-10-23 01:24:00   \n",
      "39736  24121397  32605863       0   52  2132-09-03 21:31:00   \n",
      "\n",
      "                   outtime  dod        los  \n",
      "1      2150-01-27 10:54:59  NaN   3.612859  \n",
      "4      2169-10-20 22:33:00  NaN   3.175000  \n",
      "13     2164-08-17 15:23:45  NaN   0.666493  \n",
      "23     2171-02-10 21:56:17  NaN   7.848762  \n",
      "40     2131-08-02 01:06:23  NaN  13.141528  \n",
      "...                    ...  ...        ...  \n",
      "39702  2171-03-28 17:14:48  NaN   1.135231  \n",
      "39714  2183-09-02 16:36:43  NaN   1.178229  \n",
      "39716  2117-03-10 12:26:04  NaN   2.488241  \n",
      "39725  2148-10-24 19:48:44  NaN   1.767176  \n",
      "39736  2132-09-04 14:29:03  NaN   0.706979  \n",
      "\n",
      "[3975 rows x 8 columns]\n"
     ]
    }
   ],
   "source": [
    "test_data = df2.loc[x_test,:]\n",
    "print(test_data)"
   ]
  },
  {
   "cell_type": "code",
   "execution_count": 44,
   "metadata": {},
   "outputs": [],
   "source": [
    "train_data.to_csv('train_stays.csv')"
   ]
  },
  {
   "cell_type": "code",
   "execution_count": 45,
   "metadata": {},
   "outputs": [],
   "source": [
    "test_data.to_csv('test_stays.csv')"
   ]
  },
  {
   "cell_type": "code",
   "execution_count": null,
   "metadata": {},
   "outputs": [],
   "source": []
  }
 ],
 "metadata": {
  "kernelspec": {
   "display_name": "Python 3",
   "language": "python",
   "name": "python3"
  },
  "language_info": {
   "codemirror_mode": {
    "name": "ipython",
    "version": 3
   },
   "file_extension": ".py",
   "mimetype": "text/x-python",
   "name": "python",
   "nbconvert_exporter": "python",
   "pygments_lexer": "ipython3",
   "version": "3.7.6"
  }
 },
 "nbformat": 4,
 "nbformat_minor": 4
}
